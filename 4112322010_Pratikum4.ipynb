{
  "nbformat": 4,
  "nbformat_minor": 0,
  "metadata": {
    "colab": {
      "provenance": []
    },
    "kernelspec": {
      "name": "python3",
      "display_name": "Python 3"
    },
    "language_info": {
      "name": "python"
    }
  },
  "cells": [
    {
      "cell_type": "markdown",
      "source": [
        "#PERTEMUAN 4\n",
        "## LATIHAN PRAKTIKUM FEATURE ENGINEERING\n",
        "\n",
        "\n",
        "\n",
        "*   Nama : Kinanti Anggraeni\n",
        "*   NIM : 4112322010\n",
        "\n"
      ],
      "metadata": {
        "id": "XEi4lHj7_-KT"
      }
    },
    {
      "cell_type": "markdown",
      "source": [
        "###Import Dataset"
      ],
      "metadata": {
        "id": "djxz7vBjAS4g"
      }
    },
    {
      "cell_type": "code",
      "execution_count": 1,
      "metadata": {
        "colab": {
          "base_uri": "https://localhost:8080/",
          "height": 423
        },
        "id": "M9y7HoaT_9gW",
        "outputId": "a6c892ff-13f2-457c-8d88-de3bfb2e2cd8"
      },
      "outputs": [
        {
          "output_type": "execute_result",
          "data": {
            "text/plain": [
              "    price  year  mileage fuel_type  engine_size transmission  num_owners  \\\n",
              "0   20795  2007   141926    Petrol          1.2    Automatic           1   \n",
              "1    5860  2002   100084    Hybrid          1.2    Automatic           4   \n",
              "2   43158  2002   179695    Petrol          1.0       Manual           4   \n",
              "3   49732  2000    17392    Diesel          1.0       Manual           1   \n",
              "4   16284  2004    65680    Petrol          1.0       Manual           1   \n",
              "..    ...   ...      ...       ...          ...          ...         ...   \n",
              "95   7027  2016    87505  Electric          1.5    Automatic           1   \n",
              "96   7695  2016    12869    Diesel          2.5       Manual           2   \n",
              "97  10258  2001    60108  Electric          3.0    Automatic           2   \n",
              "98  27002  2001   122296  Electric          1.0       Manual           4   \n",
              "99  44504  2021   104179    Diesel          2.5       Manual           1   \n",
              "\n",
              "   car_brand  color  \n",
              "0      Tesla   Blue  \n",
              "1      Tesla  Black  \n",
              "2      Honda   Gray  \n",
              "3     Toyota    Red  \n",
              "4      Honda   Blue  \n",
              "..       ...    ...  \n",
              "95      Ford   Blue  \n",
              "96     Tesla   Gray  \n",
              "97     Tesla   Blue  \n",
              "98       BMW   Gray  \n",
              "99     Tesla  Black  \n",
              "\n",
              "[100 rows x 9 columns]"
            ],
            "text/html": [
              "\n",
              "  <div id=\"df-99e17ac2-5a9a-44f8-8d9a-8ecf961cbc90\" class=\"colab-df-container\">\n",
              "    <div>\n",
              "<style scoped>\n",
              "    .dataframe tbody tr th:only-of-type {\n",
              "        vertical-align: middle;\n",
              "    }\n",
              "\n",
              "    .dataframe tbody tr th {\n",
              "        vertical-align: top;\n",
              "    }\n",
              "\n",
              "    .dataframe thead th {\n",
              "        text-align: right;\n",
              "    }\n",
              "</style>\n",
              "<table border=\"1\" class=\"dataframe\">\n",
              "  <thead>\n",
              "    <tr style=\"text-align: right;\">\n",
              "      <th></th>\n",
              "      <th>price</th>\n",
              "      <th>year</th>\n",
              "      <th>mileage</th>\n",
              "      <th>fuel_type</th>\n",
              "      <th>engine_size</th>\n",
              "      <th>transmission</th>\n",
              "      <th>num_owners</th>\n",
              "      <th>car_brand</th>\n",
              "      <th>color</th>\n",
              "    </tr>\n",
              "  </thead>\n",
              "  <tbody>\n",
              "    <tr>\n",
              "      <th>0</th>\n",
              "      <td>20795</td>\n",
              "      <td>2007</td>\n",
              "      <td>141926</td>\n",
              "      <td>Petrol</td>\n",
              "      <td>1.2</td>\n",
              "      <td>Automatic</td>\n",
              "      <td>1</td>\n",
              "      <td>Tesla</td>\n",
              "      <td>Blue</td>\n",
              "    </tr>\n",
              "    <tr>\n",
              "      <th>1</th>\n",
              "      <td>5860</td>\n",
              "      <td>2002</td>\n",
              "      <td>100084</td>\n",
              "      <td>Hybrid</td>\n",
              "      <td>1.2</td>\n",
              "      <td>Automatic</td>\n",
              "      <td>4</td>\n",
              "      <td>Tesla</td>\n",
              "      <td>Black</td>\n",
              "    </tr>\n",
              "    <tr>\n",
              "      <th>2</th>\n",
              "      <td>43158</td>\n",
              "      <td>2002</td>\n",
              "      <td>179695</td>\n",
              "      <td>Petrol</td>\n",
              "      <td>1.0</td>\n",
              "      <td>Manual</td>\n",
              "      <td>4</td>\n",
              "      <td>Honda</td>\n",
              "      <td>Gray</td>\n",
              "    </tr>\n",
              "    <tr>\n",
              "      <th>3</th>\n",
              "      <td>49732</td>\n",
              "      <td>2000</td>\n",
              "      <td>17392</td>\n",
              "      <td>Diesel</td>\n",
              "      <td>1.0</td>\n",
              "      <td>Manual</td>\n",
              "      <td>1</td>\n",
              "      <td>Toyota</td>\n",
              "      <td>Red</td>\n",
              "    </tr>\n",
              "    <tr>\n",
              "      <th>4</th>\n",
              "      <td>16284</td>\n",
              "      <td>2004</td>\n",
              "      <td>65680</td>\n",
              "      <td>Petrol</td>\n",
              "      <td>1.0</td>\n",
              "      <td>Manual</td>\n",
              "      <td>1</td>\n",
              "      <td>Honda</td>\n",
              "      <td>Blue</td>\n",
              "    </tr>\n",
              "    <tr>\n",
              "      <th>...</th>\n",
              "      <td>...</td>\n",
              "      <td>...</td>\n",
              "      <td>...</td>\n",
              "      <td>...</td>\n",
              "      <td>...</td>\n",
              "      <td>...</td>\n",
              "      <td>...</td>\n",
              "      <td>...</td>\n",
              "      <td>...</td>\n",
              "    </tr>\n",
              "    <tr>\n",
              "      <th>95</th>\n",
              "      <td>7027</td>\n",
              "      <td>2016</td>\n",
              "      <td>87505</td>\n",
              "      <td>Electric</td>\n",
              "      <td>1.5</td>\n",
              "      <td>Automatic</td>\n",
              "      <td>1</td>\n",
              "      <td>Ford</td>\n",
              "      <td>Blue</td>\n",
              "    </tr>\n",
              "    <tr>\n",
              "      <th>96</th>\n",
              "      <td>7695</td>\n",
              "      <td>2016</td>\n",
              "      <td>12869</td>\n",
              "      <td>Diesel</td>\n",
              "      <td>2.5</td>\n",
              "      <td>Manual</td>\n",
              "      <td>2</td>\n",
              "      <td>Tesla</td>\n",
              "      <td>Gray</td>\n",
              "    </tr>\n",
              "    <tr>\n",
              "      <th>97</th>\n",
              "      <td>10258</td>\n",
              "      <td>2001</td>\n",
              "      <td>60108</td>\n",
              "      <td>Electric</td>\n",
              "      <td>3.0</td>\n",
              "      <td>Automatic</td>\n",
              "      <td>2</td>\n",
              "      <td>Tesla</td>\n",
              "      <td>Blue</td>\n",
              "    </tr>\n",
              "    <tr>\n",
              "      <th>98</th>\n",
              "      <td>27002</td>\n",
              "      <td>2001</td>\n",
              "      <td>122296</td>\n",
              "      <td>Electric</td>\n",
              "      <td>1.0</td>\n",
              "      <td>Manual</td>\n",
              "      <td>4</td>\n",
              "      <td>BMW</td>\n",
              "      <td>Gray</td>\n",
              "    </tr>\n",
              "    <tr>\n",
              "      <th>99</th>\n",
              "      <td>44504</td>\n",
              "      <td>2021</td>\n",
              "      <td>104179</td>\n",
              "      <td>Diesel</td>\n",
              "      <td>2.5</td>\n",
              "      <td>Manual</td>\n",
              "      <td>1</td>\n",
              "      <td>Tesla</td>\n",
              "      <td>Black</td>\n",
              "    </tr>\n",
              "  </tbody>\n",
              "</table>\n",
              "<p>100 rows × 9 columns</p>\n",
              "</div>\n",
              "    <div class=\"colab-df-buttons\">\n",
              "\n",
              "  <div class=\"colab-df-container\">\n",
              "    <button class=\"colab-df-convert\" onclick=\"convertToInteractive('df-99e17ac2-5a9a-44f8-8d9a-8ecf961cbc90')\"\n",
              "            title=\"Convert this dataframe to an interactive table.\"\n",
              "            style=\"display:none;\">\n",
              "\n",
              "  <svg xmlns=\"http://www.w3.org/2000/svg\" height=\"24px\" viewBox=\"0 -960 960 960\">\n",
              "    <path d=\"M120-120v-720h720v720H120Zm60-500h600v-160H180v160Zm220 220h160v-160H400v160Zm0 220h160v-160H400v160ZM180-400h160v-160H180v160Zm440 0h160v-160H620v160ZM180-180h160v-160H180v160Zm440 0h160v-160H620v160Z\"/>\n",
              "  </svg>\n",
              "    </button>\n",
              "\n",
              "  <style>\n",
              "    .colab-df-container {\n",
              "      display:flex;\n",
              "      gap: 12px;\n",
              "    }\n",
              "\n",
              "    .colab-df-convert {\n",
              "      background-color: #E8F0FE;\n",
              "      border: none;\n",
              "      border-radius: 50%;\n",
              "      cursor: pointer;\n",
              "      display: none;\n",
              "      fill: #1967D2;\n",
              "      height: 32px;\n",
              "      padding: 0 0 0 0;\n",
              "      width: 32px;\n",
              "    }\n",
              "\n",
              "    .colab-df-convert:hover {\n",
              "      background-color: #E2EBFA;\n",
              "      box-shadow: 0px 1px 2px rgba(60, 64, 67, 0.3), 0px 1px 3px 1px rgba(60, 64, 67, 0.15);\n",
              "      fill: #174EA6;\n",
              "    }\n",
              "\n",
              "    .colab-df-buttons div {\n",
              "      margin-bottom: 4px;\n",
              "    }\n",
              "\n",
              "    [theme=dark] .colab-df-convert {\n",
              "      background-color: #3B4455;\n",
              "      fill: #D2E3FC;\n",
              "    }\n",
              "\n",
              "    [theme=dark] .colab-df-convert:hover {\n",
              "      background-color: #434B5C;\n",
              "      box-shadow: 0px 1px 3px 1px rgba(0, 0, 0, 0.15);\n",
              "      filter: drop-shadow(0px 1px 2px rgba(0, 0, 0, 0.3));\n",
              "      fill: #FFFFFF;\n",
              "    }\n",
              "  </style>\n",
              "\n",
              "    <script>\n",
              "      const buttonEl =\n",
              "        document.querySelector('#df-99e17ac2-5a9a-44f8-8d9a-8ecf961cbc90 button.colab-df-convert');\n",
              "      buttonEl.style.display =\n",
              "        google.colab.kernel.accessAllowed ? 'block' : 'none';\n",
              "\n",
              "      async function convertToInteractive(key) {\n",
              "        const element = document.querySelector('#df-99e17ac2-5a9a-44f8-8d9a-8ecf961cbc90');\n",
              "        const dataTable =\n",
              "          await google.colab.kernel.invokeFunction('convertToInteractive',\n",
              "                                                    [key], {});\n",
              "        if (!dataTable) return;\n",
              "\n",
              "        const docLinkHtml = 'Like what you see? Visit the ' +\n",
              "          '<a target=\"_blank\" href=https://colab.research.google.com/notebooks/data_table.ipynb>data table notebook</a>'\n",
              "          + ' to learn more about interactive tables.';\n",
              "        element.innerHTML = '';\n",
              "        dataTable['output_type'] = 'display_data';\n",
              "        await google.colab.output.renderOutput(dataTable, element);\n",
              "        const docLink = document.createElement('div');\n",
              "        docLink.innerHTML = docLinkHtml;\n",
              "        element.appendChild(docLink);\n",
              "      }\n",
              "    </script>\n",
              "  </div>\n",
              "\n",
              "\n",
              "<div id=\"df-60d2ee57-465d-4046-a598-bcca115f17b6\">\n",
              "  <button class=\"colab-df-quickchart\" onclick=\"quickchart('df-60d2ee57-465d-4046-a598-bcca115f17b6')\"\n",
              "            title=\"Suggest charts\"\n",
              "            style=\"display:none;\">\n",
              "\n",
              "<svg xmlns=\"http://www.w3.org/2000/svg\" height=\"24px\"viewBox=\"0 0 24 24\"\n",
              "     width=\"24px\">\n",
              "    <g>\n",
              "        <path d=\"M19 3H5c-1.1 0-2 .9-2 2v14c0 1.1.9 2 2 2h14c1.1 0 2-.9 2-2V5c0-1.1-.9-2-2-2zM9 17H7v-7h2v7zm4 0h-2V7h2v10zm4 0h-2v-4h2v4z\"/>\n",
              "    </g>\n",
              "</svg>\n",
              "  </button>\n",
              "\n",
              "<style>\n",
              "  .colab-df-quickchart {\n",
              "      --bg-color: #E8F0FE;\n",
              "      --fill-color: #1967D2;\n",
              "      --hover-bg-color: #E2EBFA;\n",
              "      --hover-fill-color: #174EA6;\n",
              "      --disabled-fill-color: #AAA;\n",
              "      --disabled-bg-color: #DDD;\n",
              "  }\n",
              "\n",
              "  [theme=dark] .colab-df-quickchart {\n",
              "      --bg-color: #3B4455;\n",
              "      --fill-color: #D2E3FC;\n",
              "      --hover-bg-color: #434B5C;\n",
              "      --hover-fill-color: #FFFFFF;\n",
              "      --disabled-bg-color: #3B4455;\n",
              "      --disabled-fill-color: #666;\n",
              "  }\n",
              "\n",
              "  .colab-df-quickchart {\n",
              "    background-color: var(--bg-color);\n",
              "    border: none;\n",
              "    border-radius: 50%;\n",
              "    cursor: pointer;\n",
              "    display: none;\n",
              "    fill: var(--fill-color);\n",
              "    height: 32px;\n",
              "    padding: 0;\n",
              "    width: 32px;\n",
              "  }\n",
              "\n",
              "  .colab-df-quickchart:hover {\n",
              "    background-color: var(--hover-bg-color);\n",
              "    box-shadow: 0 1px 2px rgba(60, 64, 67, 0.3), 0 1px 3px 1px rgba(60, 64, 67, 0.15);\n",
              "    fill: var(--button-hover-fill-color);\n",
              "  }\n",
              "\n",
              "  .colab-df-quickchart-complete:disabled,\n",
              "  .colab-df-quickchart-complete:disabled:hover {\n",
              "    background-color: var(--disabled-bg-color);\n",
              "    fill: var(--disabled-fill-color);\n",
              "    box-shadow: none;\n",
              "  }\n",
              "\n",
              "  .colab-df-spinner {\n",
              "    border: 2px solid var(--fill-color);\n",
              "    border-color: transparent;\n",
              "    border-bottom-color: var(--fill-color);\n",
              "    animation:\n",
              "      spin 1s steps(1) infinite;\n",
              "  }\n",
              "\n",
              "  @keyframes spin {\n",
              "    0% {\n",
              "      border-color: transparent;\n",
              "      border-bottom-color: var(--fill-color);\n",
              "      border-left-color: var(--fill-color);\n",
              "    }\n",
              "    20% {\n",
              "      border-color: transparent;\n",
              "      border-left-color: var(--fill-color);\n",
              "      border-top-color: var(--fill-color);\n",
              "    }\n",
              "    30% {\n",
              "      border-color: transparent;\n",
              "      border-left-color: var(--fill-color);\n",
              "      border-top-color: var(--fill-color);\n",
              "      border-right-color: var(--fill-color);\n",
              "    }\n",
              "    40% {\n",
              "      border-color: transparent;\n",
              "      border-right-color: var(--fill-color);\n",
              "      border-top-color: var(--fill-color);\n",
              "    }\n",
              "    60% {\n",
              "      border-color: transparent;\n",
              "      border-right-color: var(--fill-color);\n",
              "    }\n",
              "    80% {\n",
              "      border-color: transparent;\n",
              "      border-right-color: var(--fill-color);\n",
              "      border-bottom-color: var(--fill-color);\n",
              "    }\n",
              "    90% {\n",
              "      border-color: transparent;\n",
              "      border-bottom-color: var(--fill-color);\n",
              "    }\n",
              "  }\n",
              "</style>\n",
              "\n",
              "  <script>\n",
              "    async function quickchart(key) {\n",
              "      const quickchartButtonEl =\n",
              "        document.querySelector('#' + key + ' button');\n",
              "      quickchartButtonEl.disabled = true;  // To prevent multiple clicks.\n",
              "      quickchartButtonEl.classList.add('colab-df-spinner');\n",
              "      try {\n",
              "        const charts = await google.colab.kernel.invokeFunction(\n",
              "            'suggestCharts', [key], {});\n",
              "      } catch (error) {\n",
              "        console.error('Error during call to suggestCharts:', error);\n",
              "      }\n",
              "      quickchartButtonEl.classList.remove('colab-df-spinner');\n",
              "      quickchartButtonEl.classList.add('colab-df-quickchart-complete');\n",
              "    }\n",
              "    (() => {\n",
              "      let quickchartButtonEl =\n",
              "        document.querySelector('#df-60d2ee57-465d-4046-a598-bcca115f17b6 button');\n",
              "      quickchartButtonEl.style.display =\n",
              "        google.colab.kernel.accessAllowed ? 'block' : 'none';\n",
              "    })();\n",
              "  </script>\n",
              "</div>\n",
              "\n",
              "  <div id=\"id_1af0f621-cee9-403c-aa0d-1e088f311723\">\n",
              "    <style>\n",
              "      .colab-df-generate {\n",
              "        background-color: #E8F0FE;\n",
              "        border: none;\n",
              "        border-radius: 50%;\n",
              "        cursor: pointer;\n",
              "        display: none;\n",
              "        fill: #1967D2;\n",
              "        height: 32px;\n",
              "        padding: 0 0 0 0;\n",
              "        width: 32px;\n",
              "      }\n",
              "\n",
              "      .colab-df-generate:hover {\n",
              "        background-color: #E2EBFA;\n",
              "        box-shadow: 0px 1px 2px rgba(60, 64, 67, 0.3), 0px 1px 3px 1px rgba(60, 64, 67, 0.15);\n",
              "        fill: #174EA6;\n",
              "      }\n",
              "\n",
              "      [theme=dark] .colab-df-generate {\n",
              "        background-color: #3B4455;\n",
              "        fill: #D2E3FC;\n",
              "      }\n",
              "\n",
              "      [theme=dark] .colab-df-generate:hover {\n",
              "        background-color: #434B5C;\n",
              "        box-shadow: 0px 1px 3px 1px rgba(0, 0, 0, 0.15);\n",
              "        filter: drop-shadow(0px 1px 2px rgba(0, 0, 0, 0.3));\n",
              "        fill: #FFFFFF;\n",
              "      }\n",
              "    </style>\n",
              "    <button class=\"colab-df-generate\" onclick=\"generateWithVariable('df')\"\n",
              "            title=\"Generate code using this dataframe.\"\n",
              "            style=\"display:none;\">\n",
              "\n",
              "  <svg xmlns=\"http://www.w3.org/2000/svg\" height=\"24px\"viewBox=\"0 0 24 24\"\n",
              "       width=\"24px\">\n",
              "    <path d=\"M7,19H8.4L18.45,9,17,7.55,7,17.6ZM5,21V16.75L18.45,3.32a2,2,0,0,1,2.83,0l1.4,1.43a1.91,1.91,0,0,1,.58,1.4,1.91,1.91,0,0,1-.58,1.4L9.25,21ZM18.45,9,17,7.55Zm-12,3A5.31,5.31,0,0,0,4.9,8.1,5.31,5.31,0,0,0,1,6.5,5.31,5.31,0,0,0,4.9,4.9,5.31,5.31,0,0,0,6.5,1,5.31,5.31,0,0,0,8.1,4.9,5.31,5.31,0,0,0,12,6.5,5.46,5.46,0,0,0,6.5,12Z\"/>\n",
              "  </svg>\n",
              "    </button>\n",
              "    <script>\n",
              "      (() => {\n",
              "      const buttonEl =\n",
              "        document.querySelector('#id_1af0f621-cee9-403c-aa0d-1e088f311723 button.colab-df-generate');\n",
              "      buttonEl.style.display =\n",
              "        google.colab.kernel.accessAllowed ? 'block' : 'none';\n",
              "\n",
              "      buttonEl.onclick = () => {\n",
              "        google.colab.notebook.generateWithVariable('df');\n",
              "      }\n",
              "      })();\n",
              "    </script>\n",
              "  </div>\n",
              "\n",
              "    </div>\n",
              "  </div>\n"
            ],
            "application/vnd.google.colaboratory.intrinsic+json": {
              "type": "dataframe",
              "variable_name": "df",
              "summary": "{\n  \"name\": \"df\",\n  \"rows\": 100,\n  \"fields\": [\n    {\n      \"column\": \"price\",\n      \"properties\": {\n        \"dtype\": \"number\",\n        \"std\": 14404,\n        \"min\": 5161,\n        \"max\": 49974,\n        \"num_unique_values\": 100,\n        \"samples\": [\n          13529,\n          45994,\n          42065\n        ],\n        \"semantic_type\": \"\",\n        \"description\": \"\"\n      }\n    },\n    {\n      \"column\": \"year\",\n      \"properties\": {\n        \"dtype\": \"number\",\n        \"std\": 6,\n        \"min\": 2000,\n        \"max\": 2022,\n        \"num_unique_values\": 22,\n        \"samples\": [\n          2007,\n          2013,\n          2001\n        ],\n        \"semantic_type\": \"\",\n        \"description\": \"\"\n      }\n    },\n    {\n      \"column\": \"mileage\",\n      \"properties\": {\n        \"dtype\": \"number\",\n        \"std\": 54149,\n        \"min\": 12869,\n        \"max\": 194423,\n        \"num_unique_values\": 100,\n        \"samples\": [\n          126336,\n          40306,\n          127858\n        ],\n        \"semantic_type\": \"\",\n        \"description\": \"\"\n      }\n    },\n    {\n      \"column\": \"fuel_type\",\n      \"properties\": {\n        \"dtype\": \"category\",\n        \"num_unique_values\": 4,\n        \"samples\": [\n          \"Hybrid\",\n          \"Electric\",\n          \"Petrol\"\n        ],\n        \"semantic_type\": \"\",\n        \"description\": \"\"\n      }\n    },\n    {\n      \"column\": \"engine_size\",\n      \"properties\": {\n        \"dtype\": \"number\",\n        \"std\": 0.7276161436672859,\n        \"min\": 1.0,\n        \"max\": 3.0,\n        \"num_unique_values\": 6,\n        \"samples\": [\n          1.2,\n          1.0,\n          2.0\n        ],\n        \"semantic_type\": \"\",\n        \"description\": \"\"\n      }\n    },\n    {\n      \"column\": \"transmission\",\n      \"properties\": {\n        \"dtype\": \"category\",\n        \"num_unique_values\": 2,\n        \"samples\": [\n          \"Manual\",\n          \"Automatic\"\n        ],\n        \"semantic_type\": \"\",\n        \"description\": \"\"\n      }\n    },\n    {\n      \"column\": \"num_owners\",\n      \"properties\": {\n        \"dtype\": \"number\",\n        \"std\": 1,\n        \"min\": 1,\n        \"max\": 4,\n        \"num_unique_values\": 4,\n        \"samples\": [\n          4,\n          3\n        ],\n        \"semantic_type\": \"\",\n        \"description\": \"\"\n      }\n    },\n    {\n      \"column\": \"car_brand\",\n      \"properties\": {\n        \"dtype\": \"category\",\n        \"num_unique_values\": 5,\n        \"samples\": [\n          \"Honda\",\n          \"Ford\"\n        ],\n        \"semantic_type\": \"\",\n        \"description\": \"\"\n      }\n    },\n    {\n      \"column\": \"color\",\n      \"properties\": {\n        \"dtype\": \"category\",\n        \"num_unique_values\": 5,\n        \"samples\": [\n          \"Black\",\n          \"White\"\n        ],\n        \"semantic_type\": \"\",\n        \"description\": \"\"\n      }\n    }\n  ]\n}"
            }
          },
          "metadata": {},
          "execution_count": 1
        }
      ],
      "source": [
        "import pandas as pd\n",
        "\n",
        "df = pd.read_csv('/content/used_cars_dataset.csv')\n",
        "df"
      ]
    },
    {
      "cell_type": "markdown",
      "source": [
        " ### Cek missing values"
      ],
      "metadata": {
        "id": "lcUjqKb8BMiu"
      }
    },
    {
      "cell_type": "code",
      "source": [
        "# Cek jumlah missing values di setiap kolom\n",
        "missing_values = df.isnull().sum()\n",
        "\n",
        "# Menampilkan kolom yang memiliki missing values beserta jumlahnya\n",
        "missing_values[missing_values > 0]"
      ],
      "metadata": {
        "colab": {
          "base_uri": "https://localhost:8080/",
          "height": 84
        },
        "id": "5aAP70fwBC-K",
        "outputId": "5d2bb89c-fd6e-4a17-96b2-8f0fb2d9b1cd"
      },
      "execution_count": 2,
      "outputs": [
        {
          "output_type": "execute_result",
          "data": {
            "text/plain": [
              "Series([], dtype: int64)"
            ],
            "text/html": [
              "<div>\n",
              "<style scoped>\n",
              "    .dataframe tbody tr th:only-of-type {\n",
              "        vertical-align: middle;\n",
              "    }\n",
              "\n",
              "    .dataframe tbody tr th {\n",
              "        vertical-align: top;\n",
              "    }\n",
              "\n",
              "    .dataframe thead th {\n",
              "        text-align: right;\n",
              "    }\n",
              "</style>\n",
              "<table border=\"1\" class=\"dataframe\">\n",
              "  <thead>\n",
              "    <tr style=\"text-align: right;\">\n",
              "      <th></th>\n",
              "      <th>0</th>\n",
              "    </tr>\n",
              "  </thead>\n",
              "  <tbody>\n",
              "  </tbody>\n",
              "</table>\n",
              "</div><br><label><b>dtype:</b> int64</label>"
            ]
          },
          "metadata": {},
          "execution_count": 2
        }
      ]
    },
    {
      "cell_type": "markdown",
      "source": [
        "tidak terdapat missing value pada dataset ini sehingga tidak memerlukan imputasi"
      ],
      "metadata": {
        "id": "HXKGysFvBsgo"
      }
    },
    {
      "cell_type": "markdown",
      "source": [
        "### Ubah fitur kategorikal menjadi numerik\n"
      ],
      "metadata": {
        "id": "SjRnKT01CK3a"
      }
    },
    {
      "cell_type": "code",
      "source": [
        "categorical_features = ['fuel_type', 'transmission', 'car_brand', 'color']\n",
        "\n",
        "# Menampilkan kategori unik di setiap fitur\n",
        "for col in categorical_features:\n",
        "    print(f\"{col}:\")\n",
        "    print(df[col].unique())  # Menampilkan kategori unik\n",
        "    print(\"=\"*50)"
      ],
      "metadata": {
        "colab": {
          "base_uri": "https://localhost:8080/"
        },
        "id": "vcj7119rCqtQ",
        "outputId": "a9b10887-3e31-4da2-9074-87cfb75d30a8"
      },
      "execution_count": 3,
      "outputs": [
        {
          "output_type": "stream",
          "name": "stdout",
          "text": [
            "fuel_type:\n",
            "['Petrol' 'Hybrid' 'Diesel' 'Electric']\n",
            "==================================================\n",
            "transmission:\n",
            "['Automatic' 'Manual']\n",
            "==================================================\n",
            "car_brand:\n",
            "['Tesla' 'Honda' 'Toyota' 'BMW' 'Ford']\n",
            "==================================================\n",
            "color:\n",
            "['Blue' 'Black' 'Gray' 'Red' 'White']\n",
            "==================================================\n"
          ]
        }
      ]
    },
    {
      "cell_type": "markdown",
      "source": [
        "melihat masing-masing kategori unik setiap fitur"
      ],
      "metadata": {
        "id": "O0i3r16xC69i"
      }
    },
    {
      "cell_type": "code",
      "source": [
        "# Melakukan One-Hot Encoding\n",
        "df_baru = pd.get_dummies(df, columns=['fuel_type', 'transmission', 'car_brand', 'color'], drop_first=True)\n",
        "\n",
        "# Konversi nilai boolean ke integer (0 dan 1)\n",
        "# nilai False setara dengan 0 dan True setara dengan 1.\n",
        "df_baru = df_baru.astype(int)\n",
        "\n",
        "# Menampilkan hasil One-Hot Encoding\n",
        "print(\"\\nData Setelah One-Hot Encoding:\")\n",
        "print(df_baru.head())"
      ],
      "metadata": {
        "colab": {
          "base_uri": "https://localhost:8080/"
        },
        "id": "9D9_R7siBjq5",
        "outputId": "94ef13df-49e1-4427-ea35-430abae8b16b"
      },
      "execution_count": 4,
      "outputs": [
        {
          "output_type": "stream",
          "name": "stdout",
          "text": [
            "\n",
            "Data Setelah One-Hot Encoding:\n",
            "   price  year  mileage  engine_size  num_owners  fuel_type_Electric  \\\n",
            "0  20795  2007   141926            1           1                   0   \n",
            "1   5860  2002   100084            1           4                   0   \n",
            "2  43158  2002   179695            1           4                   0   \n",
            "3  49732  2000    17392            1           1                   0   \n",
            "4  16284  2004    65680            1           1                   0   \n",
            "\n",
            "   fuel_type_Hybrid  fuel_type_Petrol  transmission_Manual  car_brand_Ford  \\\n",
            "0                 0                 1                    0               0   \n",
            "1                 1                 0                    0               0   \n",
            "2                 0                 1                    1               0   \n",
            "3                 0                 0                    1               0   \n",
            "4                 0                 1                    1               0   \n",
            "\n",
            "   car_brand_Honda  car_brand_Tesla  car_brand_Toyota  color_Blue  color_Gray  \\\n",
            "0                0                1                 0           1           0   \n",
            "1                0                1                 0           0           0   \n",
            "2                1                0                 0           0           1   \n",
            "3                0                0                 1           0           0   \n",
            "4                1                0                 0           1           0   \n",
            "\n",
            "   color_Red  color_White  \n",
            "0          0            0  \n",
            "1          0            0  \n",
            "2          0            0  \n",
            "3          1            0  \n",
            "4          0            0  \n"
          ]
        }
      ]
    },
    {
      "cell_type": "markdown",
      "source": [
        "\n",
        "\n",
        "*   Dampak dari One-Hot Encoding terhadap jumlah fitur dalam dataset\n",
        "\n",
        "\n",
        "Dampak dari One-Hot Encoding adalah penambahan jumlah fitur dalam dataset. Setiap kategori unik dalam fitur yang di-encode akan menjadi kolom baru. Misalnya, fitur fuel_type dengan 4 kategori (Petrol, Hybrid, Diesel, Electric), setelah One-Hot Encoding,  akan mendapatkan 3 kolom baru (karena  menggunakan drop_first=True untuk menghindari multikolinearitas).\n",
        "\n",
        "Jika memiliki fitur dengan n kategori, maka One-Hot Encoding akan menambah n-1 kolom baru ke dataset."
      ],
      "metadata": {
        "id": "_GHGrhhEFLFD"
      }
    },
    {
      "cell_type": "markdown",
      "source": [
        "\n",
        "\n",
        "*  Efektivitas One-Hot Encoding jika terdapat banyak kategori unik\n",
        "\n",
        "Jika dataset memiliki 100 kategori unik dalam satu fitur, One-Hot Encoding mungkin tidak efektif karena akan menghasilkan 99 kolom baru. Ini dapat menyebabkan Curse of Dimensionality (Dengan banyaknya fitur, model dapat menjadi lebih kompleks dan sulit untuk dilatih) dan juga Overfitting (Model mungkin belajar noise dalam data daripada pola yang sebenarnya)\n",
        "\n"
      ],
      "metadata": {
        "id": "nVXt-pxAFxp8"
      }
    },
    {
      "cell_type": "markdown",
      "source": [
        "### scaling pada Fitur Numerik"
      ],
      "metadata": {
        "id": "ovpZu1NvGdLT"
      }
    },
    {
      "cell_type": "code",
      "source": [
        "from sklearn.preprocessing import StandardScaler\n",
        "\n",
        "# Memilih fitur numerik untuk scaling\n",
        "features_to_scale = ['mileage', 'engine_size', 'num_owners']\n",
        "\n",
        "# Inisialisasi StandardScaler\n",
        "scaler = StandardScaler()\n",
        "\n",
        "# Melakukan scaling\n",
        "df_baru[features_to_scale] = scaler.fit_transform(df[features_to_scale])\n",
        "\n",
        "# Menampilkan hasil setelah scaling\n",
        "print(\"\\nData Setelah Scaling dengan StandardScaler:\")\n",
        "print(df_baru[features_to_scale].head())"
      ],
      "metadata": {
        "colab": {
          "base_uri": "https://localhost:8080/"
        },
        "id": "agNPGvDQEk67",
        "outputId": "f05759c6-5ee5-4dd2-8e33-9802a82b35e7"
      },
      "execution_count": 9,
      "outputs": [
        {
          "output_type": "stream",
          "name": "stdout",
          "text": [
            "\n",
            "Data Setelah Scaling dengan StandardScaler:\n",
            "    mileage  engine_size  num_owners\n",
            "0  0.697751    -0.948936   -1.189562\n",
            "1 -0.078852    -0.948936    1.306023\n",
            "2  1.398758    -1.225191    1.306023\n",
            "3 -1.613648    -1.225191   -1.189562\n",
            "4 -0.717404    -1.225191   -1.189562\n"
          ]
        }
      ]
    },
    {
      "cell_type": "markdown",
      "source": [
        "\n",
        "\n",
        "*   Perbedaan Hasil antara StandardScaler, MinMaxScaler, dan RobustScaler\n",
        "\n",
        "StandardScaler:\n",
        "\n",
        "Mengubah data sehingga memiliki rata-rata 0 dan deviasi standar 1.\n",
        "Cocok untuk data yang terdistribusi normal.Sensitif terhadap outlier.\n",
        "\n",
        "MinMaxScaler:\n",
        "\n",
        "Mengubah data ke dalam rentang [0, 1] (atau rentang lain yang ditentukan).\n",
        "Cocok untuk data yang tidak terdistribusi normal dan ketika kita ingin mempertahankan proporsi data.\n",
        "Tidak sensitif terhadap outlier, tetapi outlier dapat mempengaruhi rentang.\n",
        "\n",
        "RobustScaler:\n",
        "\n",
        "Menggunakan median dan interquartile range (IQR) untuk scaling.\n",
        "Cocok untuk data dengan banyak outlier.\n",
        "Mengurangi pengaruh outlier pada scaling.\n",
        "\n"
      ],
      "metadata": {
        "id": "S7Ngj1fdHIYe"
      }
    },
    {
      "cell_type": "markdown",
      "source": [
        "\n",
        "\n",
        "*   Dalam Kondisi Apa Lebih Baik Menggunakan MinMaxScaler dibandingkan StandardScaler?\n",
        "\n",
        "lebih baik menggunakan MinMaxScaler dalam kondisi:\n",
        "\n",
        "Data Tidak Terdistribusi Normal: Jika data tidak mengikuti distribusi normal, MinMaxScaler dapat memberikan hasil yang lebih baik.\n",
        "\n",
        "Model yang Sensitif terhadap Skala: Beberapa algoritma, seperti K-Nearest Neighbors (KNN) dan Neural Networks, dapat bekerja lebih baik dengan data yang terletak dalam rentang yang sama.\n",
        "\n",
        "Preservasi Proporsi Data: Jika kita ingin mempertahankan proporsi data asli dan tidak ingin outlier mempengaruhi skala, MinMaxScaler adalah pilihan yang baik.\n"
      ],
      "metadata": {
        "id": "x2JZ6_dtHaLR"
      }
    },
    {
      "cell_type": "markdown",
      "source": [
        "### Buat fitur baru car_age"
      ],
      "metadata": {
        "id": "wduiNiA8HzEi"
      }
    },
    {
      "cell_type": "code",
      "source": [
        "# Menentukan tahun saat ini\n",
        "current_year = 2025\n",
        "\n",
        "# Membuat fitur baru car_age\n",
        "df_baru['car_age'] = current_year - df['year']\n",
        "\n",
        "# Menampilkan hasil setelah menambahkan fitur car_age\n",
        "print(\"\\nData Setelah Menambahkan Fitur car_age:\")\n",
        "print(df_baru[['year', 'car_age']].head())"
      ],
      "metadata": {
        "colab": {
          "base_uri": "https://localhost:8080/"
        },
        "id": "3V4cHTuyG6p4",
        "outputId": "50777100-c0f8-4971-fc8c-69f32dd96164"
      },
      "execution_count": 11,
      "outputs": [
        {
          "output_type": "stream",
          "name": "stdout",
          "text": [
            "\n",
            "Data Setelah Menambahkan Fitur car_age:\n",
            "   year  car_age\n",
            "0  2007       18\n",
            "1  2002       23\n",
            "2  2002       23\n",
            "3  2000       25\n",
            "4  2004       21\n"
          ]
        }
      ]
    },
    {
      "cell_type": "markdown",
      "source": [
        "\n",
        "*   Apakah fitur car_age lebih informatif dibandingkan fitur asli year?\n",
        "\n",
        "fitur car_age lebih informatif dibandingkan year dalam analisis harga mobil bekas karena lebih langsung merepresentasikan usia mobil, yang berpengaruh terhadap nilai jual dan biaya perawatan. Selain itu, car_age menyederhanakan analisis dan mengurangi noise dengan memberikan konteks lebih jelas tentang lama pemakaian mobil.\n",
        "\n",
        "Namun, fitur year tetap berguna untuk mengetahui tahun produksi mobil."
      ],
      "metadata": {
        "id": "_47lKWT1INDs"
      }
    },
    {
      "cell_type": "markdown",
      "source": [
        "### fitur baru mileage_per_year"
      ],
      "metadata": {
        "id": "z-WfelrlIgy0"
      }
    },
    {
      "cell_type": "code",
      "source": [
        "# Membuat fitur baru mileage_per_year\n",
        "df_baru['mileage_per_year'] = df['mileage'] / df['car_age']\n",
        "\n",
        "# Menampilkan hasil setelah menambahkan fitur mileage_per_year\n",
        "print(\"\\nData Setelah Menambahkan Fitur mileage_per_year:\")\n",
        "print(df_baru[['mileage', 'car_age', 'mileage_per_year']].head())"
      ],
      "metadata": {
        "colab": {
          "base_uri": "https://localhost:8080/"
        },
        "id": "yChDmPy2H86X",
        "outputId": "4963176b-d198-4ffc-9573-5f31d77ed93e"
      },
      "execution_count": 12,
      "outputs": [
        {
          "output_type": "stream",
          "name": "stdout",
          "text": [
            "\n",
            "Data Setelah Menambahkan Fitur mileage_per_year:\n",
            "    mileage  car_age  mileage_per_year\n",
            "0  0.697751       18          0.038764\n",
            "1 -0.078852       23         -0.003428\n",
            "2  1.398758       23          0.060816\n",
            "3 -1.613648       25         -0.064546\n",
            "4 -0.717404       21         -0.034162\n"
          ]
        }
      ]
    },
    {
      "cell_type": "markdown",
      "source": [
        "\n",
        "\n",
        "*   Mengapa mileage_per_year Bisa Menjadi Fitur yang Lebih Informatif Dibandingkan mileage Saja?\n",
        "\n",
        "\n",
        "fitur mileage_per_year lebih informatif dibandingkan mileage saja karena memberikan konteks tentang seberapa intens mobil digunakan setiap tahunnya. Hal ini memudahkan perbandingan antar mobil dengan usia berbeda, menjadi indikator kondisi mobil, serta lebih relevan dalam penilaian harga mobil bekas. Dengan mileage_per_year, kita dapat memahami pola penggunaan mobil secara lebih akurat dibandingkan hanya melihat total jarak tempuhnya.\n",
        "\n",
        "\n"
      ],
      "metadata": {
        "id": "s-GLNBplJGuE"
      }
    },
    {
      "cell_type": "markdown",
      "source": [
        "## Menampilkan dataset terbaru"
      ],
      "metadata": {
        "id": "bEnsXo2ZLTru"
      }
    },
    {
      "cell_type": "code",
      "source": [
        "print(\"\\nDataset Terbaru Setelah Menambahkan Fitur Baru:\")\n",
        "print(df_baru.head())"
      ],
      "metadata": {
        "colab": {
          "base_uri": "https://localhost:8080/"
        },
        "id": "l0_qmgUMJJyy",
        "outputId": "306a4b62-b179-41d6-9a35-96137b625d26"
      },
      "execution_count": 14,
      "outputs": [
        {
          "output_type": "stream",
          "name": "stdout",
          "text": [
            "\n",
            "Dataset Terbaru Setelah Menambahkan Fitur Baru:\n",
            "   price  year   mileage  engine_size  num_owners  fuel_type_Electric  \\\n",
            "0  20795  2007  0.697751    -0.948936   -1.189562                   0   \n",
            "1   5860  2002 -0.078852    -0.948936    1.306023                   0   \n",
            "2  43158  2002  1.398758    -1.225191    1.306023                   0   \n",
            "3  49732  2000 -1.613648    -1.225191   -1.189562                   0   \n",
            "4  16284  2004 -0.717404    -1.225191   -1.189562                   0   \n",
            "\n",
            "   fuel_type_Hybrid  fuel_type_Petrol  transmission_Manual  car_brand_Ford  \\\n",
            "0                 0                 1                    0               0   \n",
            "1                 1                 0                    0               0   \n",
            "2                 0                 1                    1               0   \n",
            "3                 0                 0                    1               0   \n",
            "4                 0                 1                    1               0   \n",
            "\n",
            "   car_brand_Honda  car_brand_Tesla  car_brand_Toyota  color_Blue  color_Gray  \\\n",
            "0                0                1                 0           1           0   \n",
            "1                0                1                 0           0           0   \n",
            "2                1                0                 0           0           1   \n",
            "3                0                0                 1           0           0   \n",
            "4                1                0                 0           1           0   \n",
            "\n",
            "   color_Red  color_White  car_age  mileage_per_year  \n",
            "0          0            0       18          0.038764  \n",
            "1          0            0       23         -0.003428  \n",
            "2          0            0       23          0.060816  \n",
            "3          1            0       25         -0.064546  \n",
            "4          0            0       21         -0.034162  \n"
          ]
        }
      ]
    }
  ]
}